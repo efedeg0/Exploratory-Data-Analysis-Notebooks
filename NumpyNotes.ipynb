{
 "cells": [
  {
   "cell_type": "code",
   "execution_count": 3,
   "metadata": {},
   "outputs": [
    {
     "data": {
      "text/plain": [
       "(array([1, 2, 3]), numpy.ndarray, dtype('int32'))"
      ]
     },
     "execution_count": 3,
     "metadata": {},
     "output_type": "execute_result"
    }
   ],
   "source": [
    "import numpy as np \n",
    "a1=np.array([1,2,3])\n",
    "a1,type(a1),a1.dtype"
   ]
  },
  {
   "cell_type": "code",
   "execution_count": 4,
   "metadata": {},
   "outputs": [
    {
     "data": {
      "text/plain": [
       "array([[[1, 2, 3],\n",
       "        [4, 5, 6],\n",
       "        [7, 8, 9]],\n",
       "\n",
       "       [[1, 2, 3],\n",
       "        [4, 5, 6],\n",
       "        [7, 8, 9]]])"
      ]
     },
     "execution_count": 4,
     "metadata": {},
     "output_type": "execute_result"
    }
   ],
   "source": [
    "a3=np.array([[[1,2,3],[4,5,6],[7,8,9]],[[1,2,3],[4,5,6],[7,8,9]]])\n",
    "a3"
   ]
  },
  {
   "cell_type": "code",
   "execution_count": 40,
   "metadata": {},
   "outputs": [
    {
     "name": "stdout",
     "output_type": "stream",
     "text": [
      "a3's shape:(2, 3, 3)\n",
      "\n",
      "a3's dimension:3\n",
      "\n",
      "a3's dtype:int32\n",
      "\n",
      "a3's size(how many elements does it includes):18\n",
      "\n",
      "a3's type:<class 'numpy.ndarray'>\n"
     ]
    }
   ],
   "source": [
    "def identifier(objct):\n",
    "    return print(f\"a3's shape:{objct.shape}\\n\\na3's dimension:{objct.ndim}\\n\\na3's dtype:{objct.dtype}\\n\\na3's size(how many elements does it includes):{objct.size}\\n\\na3's type:{type(objct)}\")\n",
    "\n",
    "identifier(a3)\n"
   ]
  },
  {
   "cell_type": "code",
   "execution_count": 24,
   "metadata": {},
   "outputs": [
    {
     "data": {
      "text/html": [
       "<div>\n",
       "<style scoped>\n",
       "    .dataframe tbody tr th:only-of-type {\n",
       "        vertical-align: middle;\n",
       "    }\n",
       "\n",
       "    .dataframe tbody tr th {\n",
       "        vertical-align: top;\n",
       "    }\n",
       "\n",
       "    .dataframe thead th {\n",
       "        text-align: right;\n",
       "    }\n",
       "</style>\n",
       "<table border=\"1\" class=\"dataframe\">\n",
       "  <thead>\n",
       "    <tr style=\"text-align: right;\">\n",
       "      <th></th>\n",
       "      <th>0</th>\n",
       "      <th>1</th>\n",
       "      <th>2</th>\n",
       "    </tr>\n",
       "  </thead>\n",
       "  <tbody>\n",
       "    <tr>\n",
       "      <th>0</th>\n",
       "      <td>1</td>\n",
       "      <td>2</td>\n",
       "      <td>3</td>\n",
       "    </tr>\n",
       "    <tr>\n",
       "      <th>1</th>\n",
       "      <td>2</td>\n",
       "      <td>4</td>\n",
       "      <td>6</td>\n",
       "    </tr>\n",
       "  </tbody>\n",
       "</table>\n",
       "</div>"
      ],
      "text/plain": [
       "   0  1  2\n",
       "0  1  2  3\n",
       "1  2  4  6"
      ]
     },
     "execution_count": 24,
     "metadata": {},
     "output_type": "execute_result"
    }
   ],
   "source": [
    "import pandas as pd\n",
    "a2=np.array([[1,2,3],[2,4,6]])\n",
    "df=pd.DataFrame(a2)\n",
    "df"
   ]
  },
  {
   "cell_type": "code",
   "execution_count": 32,
   "metadata": {},
   "outputs": [
    {
     "data": {
      "text/plain": [
       "array([[5, 3],\n",
       "       [6, 5]])"
      ]
     },
     "execution_count": 32,
     "metadata": {},
     "output_type": "execute_result"
    }
   ],
   "source": [
    "ar2=np.random.randint(1,10,size=(2,2))\n",
    "ar2"
   ]
  },
  {
   "cell_type": "code",
   "execution_count": 41,
   "metadata": {},
   "outputs": [
    {
     "name": "stdout",
     "output_type": "stream",
     "text": [
      "a3's shape:(2, 3, 4, 5)\n",
      "\n",
      "a3's dimension:4\n",
      "\n",
      "a3's dtype:int32\n",
      "\n",
      "a3's size(how many elements does it includes):120\n",
      "\n",
      "a3's type:<class 'numpy.ndarray'>\n"
     ]
    },
    {
     "data": {
      "text/plain": [
       "(array([[[[5, 0, 3, 3, 7],\n",
       "          [9, 3, 5, 2, 4],\n",
       "          [7, 6, 8, 8, 1],\n",
       "          [6, 7, 7, 8, 1]],\n",
       " \n",
       "         [[5, 9, 8, 9, 4],\n",
       "          [3, 0, 3, 5, 0],\n",
       "          [2, 3, 8, 1, 3],\n",
       "          [3, 3, 7, 0, 1]],\n",
       " \n",
       "         [[9, 9, 0, 4, 7],\n",
       "          [3, 2, 7, 2, 0],\n",
       "          [0, 4, 5, 5, 6],\n",
       "          [8, 4, 1, 4, 9]]],\n",
       " \n",
       " \n",
       "        [[[8, 1, 1, 7, 9],\n",
       "          [9, 3, 6, 7, 2],\n",
       "          [0, 3, 5, 9, 4],\n",
       "          [4, 6, 4, 4, 3]],\n",
       " \n",
       "         [[4, 4, 8, 4, 3],\n",
       "          [7, 5, 5, 0, 1],\n",
       "          [5, 9, 3, 0, 5],\n",
       "          [0, 1, 2, 4, 2]],\n",
       " \n",
       "         [[0, 3, 2, 0, 7],\n",
       "          [5, 9, 0, 2, 7],\n",
       "          [2, 9, 2, 3, 3],\n",
       "          [2, 3, 4, 1, 2]]]]),\n",
       " None)"
      ]
     },
     "execution_count": 41,
     "metadata": {},
     "output_type": "execute_result"
    }
   ],
   "source": [
    "np.random.seed(0)\n",
    "a4=np.random.randint(10,size=(2,3,4,5))\n",
    "a4,identifier(a4)"
   ]
  },
  {
   "cell_type": "code",
   "execution_count": 38,
   "metadata": {},
   "outputs": [
    {
     "data": {
      "text/plain": [
       "array([[[[5],\n",
       "         [9],\n",
       "         [7],\n",
       "         [6]],\n",
       "\n",
       "        [[5],\n",
       "         [3],\n",
       "         [2],\n",
       "         [3]],\n",
       "\n",
       "        [[9],\n",
       "         [3],\n",
       "         [0],\n",
       "         [8]]],\n",
       "\n",
       "\n",
       "       [[[8],\n",
       "         [9],\n",
       "         [0],\n",
       "         [4]],\n",
       "\n",
       "        [[4],\n",
       "         [7],\n",
       "         [5],\n",
       "         [0]],\n",
       "\n",
       "        [[0],\n",
       "         [5],\n",
       "         [2],\n",
       "         [2]]]])"
      ]
     },
     "execution_count": 38,
     "metadata": {},
     "output_type": "execute_result"
    }
   ],
   "source": [
    "a4[:,:,:,:1]"
   ]
  },
  {
   "cell_type": "code",
   "execution_count": 44,
   "metadata": {},
   "outputs": [
    {
     "data": {
      "text/plain": [
       "array([[[81, 18, 72],\n",
       "        [36, 36, 54],\n",
       "        [ 5, 30, 40]],\n",
       "\n",
       "       [[56, 21, 14],\n",
       "        [24, 48, 24],\n",
       "        [48, 40, 56]]])"
      ]
     },
     "execution_count": 44,
     "metadata": {},
     "output_type": "execute_result"
    }
   ],
   "source": [
    "a=np.random.randint(10,size=(2,3))\n",
    "a=a.reshape((2,3,1))\n",
    "b=np.random.randint(10,size=(2,3,3))\n",
    "\n",
    "a*b"
   ]
  },
  {
   "cell_type": "code",
   "execution_count": 82,
   "metadata": {},
   "outputs": [
    {
     "data": {
      "text/plain": [
       "(        Almond  Peanut  Cashew\n",
       " Mon         51      14      71\n",
       " Tue         60      20      82\n",
       " Wed         86      74      74\n",
       " Thur        87      23       2\n",
       " Friday      21      52       1,\n",
       "         Price\n",
       " Almond     23\n",
       " Peanut     11\n",
       " Cashew     29,\n",
       " array([[3386, 3978, 4938, 2312, 1084]]))"
      ]
     },
     "execution_count": 82,
     "metadata": {},
     "output_type": "execute_result"
    }
   ],
   "source": [
    "np.random.seed(42)\n",
    "d1=np.random.randint(90,size=(5,3))\n",
    "df1=pd.DataFrame(d1,columns=[\"Almond\",\"Peanut\",\"Cashew\"],index=[\"Mon\",\"Tue\",\"Wed\",\"Thur\",\"Friday\"])\n",
    "d2=np.random.randint(30,size=(1,3))\n",
    "df2=pd.DataFrame(d2,columns=[\"Almond\",\"Peanut\",\"Cashew\"],index=[\"Price\"])\n",
    "df1,df2.T,np.dot(df2,df1.T)"
   ]
  },
  {
   "cell_type": "code",
   "execution_count": 69,
   "metadata": {},
   "outputs": [
    {
     "data": {
      "text/html": [
       "<div>\n",
       "<style scoped>\n",
       "    .dataframe tbody tr th:only-of-type {\n",
       "        vertical-align: middle;\n",
       "    }\n",
       "\n",
       "    .dataframe tbody tr th {\n",
       "        vertical-align: top;\n",
       "    }\n",
       "\n",
       "    .dataframe thead th {\n",
       "        text-align: right;\n",
       "    }\n",
       "</style>\n",
       "<table border=\"1\" class=\"dataframe\">\n",
       "  <thead>\n",
       "    <tr style=\"text-align: right;\">\n",
       "      <th></th>\n",
       "      <th>Almond</th>\n",
       "      <th>Peanut</th>\n",
       "      <th>Cashew</th>\n",
       "    </tr>\n",
       "  </thead>\n",
       "  <tbody>\n",
       "    <tr>\n",
       "      <th>Mon</th>\n",
       "      <td>51</td>\n",
       "      <td>14</td>\n",
       "      <td>71</td>\n",
       "    </tr>\n",
       "    <tr>\n",
       "      <th>Tue</th>\n",
       "      <td>60</td>\n",
       "      <td>20</td>\n",
       "      <td>82</td>\n",
       "    </tr>\n",
       "    <tr>\n",
       "      <th>Wed</th>\n",
       "      <td>86</td>\n",
       "      <td>74</td>\n",
       "      <td>74</td>\n",
       "    </tr>\n",
       "    <tr>\n",
       "      <th>Thur</th>\n",
       "      <td>87</td>\n",
       "      <td>23</td>\n",
       "      <td>2</td>\n",
       "    </tr>\n",
       "    <tr>\n",
       "      <th>Friday</th>\n",
       "      <td>21</td>\n",
       "      <td>52</td>\n",
       "      <td>1</td>\n",
       "    </tr>\n",
       "  </tbody>\n",
       "</table>\n",
       "</div>"
      ],
      "text/plain": [
       "        Almond  Peanut  Cashew\n",
       "Mon         51      14      71\n",
       "Tue         60      20      82\n",
       "Wed         86      74      74\n",
       "Thur        87      23       2\n",
       "Friday      21      52       1"
      ]
     },
     "execution_count": 69,
     "metadata": {},
     "output_type": "execute_result"
    }
   ],
   "source": [
    "df1"
   ]
  },
  {
   "cell_type": "code",
   "execution_count": 87,
   "metadata": {},
   "outputs": [
    {
     "data": {
      "text/plain": [
       "(array([[51, 14, 71],\n",
       "        [60, 20, 82],\n",
       "        [86, 74, 74],\n",
       "        [87, 23,  2],\n",
       "        [21, 52,  1]]),\n",
       " (5, 3),\n",
       " array([60, 20, 82]))"
      ]
     },
     "execution_count": 87,
     "metadata": {},
     "output_type": "execute_result"
    }
   ],
   "source": [
    "d1,d1.shape,d1[1,:]"
   ]
  },
  {
   "cell_type": "code",
   "execution_count": 77,
   "metadata": {},
   "outputs": [
    {
     "data": {
      "text/plain": [
       "array([[14, 51, 71],\n",
       "       [20, 60, 82],\n",
       "       [74, 74, 86],\n",
       "       [ 2, 23, 87],\n",
       "       [ 1, 21, 52]])"
      ]
     },
     "execution_count": 77,
     "metadata": {},
     "output_type": "execute_result"
    }
   ],
   "source": [
    "d1.sort()\n",
    "d1"
   ]
  },
  {
   "cell_type": "code",
   "execution_count": 80,
   "metadata": {},
   "outputs": [
    {
     "data": {
      "text/plain": [
       "array([[1, 0, 2],\n",
       "       [1, 0, 2],\n",
       "       [1, 2, 0],\n",
       "       [2, 1, 0],\n",
       "       [2, 0, 1]], dtype=int64)"
      ]
     },
     "execution_count": 80,
     "metadata": {},
     "output_type": "execute_result"
    }
   ],
   "source": [
    "np.argsort(d1)"
   ]
  },
  {
   "cell_type": "code",
   "execution_count": 89,
   "metadata": {},
   "outputs": [
    {
     "data": {
      "text/plain": [
       "0"
      ]
     },
     "execution_count": 89,
     "metadata": {},
     "output_type": "execute_result"
    }
   ],
   "source": [
    "np.argmin(d1[:,1]) #argmin gives us index of minimum value in the array"
   ]
  },
  {
   "cell_type": "code",
   "execution_count": 93,
   "metadata": {},
   "outputs": [
    {
     "data": {
      "text/plain": [
       "array([86, 74, 74])"
      ]
     },
     "execution_count": 93,
     "metadata": {},
     "output_type": "execute_result"
    }
   ],
   "source": [
    "d1[2,:]"
   ]
  },
  {
   "cell_type": "code",
   "execution_count": 92,
   "metadata": {},
   "outputs": [
    {
     "data": {
      "text/plain": [
       "0"
      ]
     },
     "execution_count": 92,
     "metadata": {},
     "output_type": "execute_result"
    }
   ],
   "source": [
    "np.argmax(d1[2,:]) #argmin gives us index of maximum value in the array"
   ]
  },
  {
   "cell_type": "code",
   "execution_count": 97,
   "metadata": {},
   "outputs": [
    {
     "data": {
      "text/plain": [
       "array([[51, 14, 71],\n",
       "       [60, 20, 82],\n",
       "       [86, 74, 74],\n",
       "       [87, 23,  2],\n",
       "       [21, 52,  1]])"
      ]
     },
     "execution_count": 97,
     "metadata": {},
     "output_type": "execute_result"
    }
   ],
   "source": [
    "d1"
   ]
  },
  {
   "cell_type": "code",
   "execution_count": 95,
   "metadata": {},
   "outputs": [
    {
     "data": {
      "text/plain": [
       "array([3, 2, 1], dtype=int64)"
      ]
     },
     "execution_count": 95,
     "metadata": {},
     "output_type": "execute_result"
    }
   ],
   "source": [
    "np.argmax(d1,axis=0)"
   ]
  },
  {
   "cell_type": "code",
   "execution_count": 96,
   "metadata": {},
   "outputs": [
    {
     "data": {
      "text/plain": [
       "array([2, 2, 0, 0, 1], dtype=int64)"
      ]
     },
     "execution_count": 96,
     "metadata": {},
     "output_type": "execute_result"
    }
   ],
   "source": [
    "np.argmax(d1,axis=1)"
   ]
  },
  {
   "cell_type": "code",
   "execution_count": null,
   "metadata": {},
   "outputs": [],
   "source": []
  }
 ],
 "metadata": {
  "kernelspec": {
   "display_name": "venv",
   "language": "python",
   "name": "python3"
  },
  "language_info": {
   "codemirror_mode": {
    "name": "ipython",
    "version": 3
   },
   "file_extension": ".py",
   "mimetype": "text/x-python",
   "name": "python",
   "nbconvert_exporter": "python",
   "pygments_lexer": "ipython3",
   "version": "3.11.7"
  }
 },
 "nbformat": 4,
 "nbformat_minor": 2
}
